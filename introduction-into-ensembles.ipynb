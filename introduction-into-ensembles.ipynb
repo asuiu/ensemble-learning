{
 "cells": [
  {
   "cell_type": "markdown",
   "metadata": {},
   "source": [
    "## This notebook is inspired from:\n",
    "    https://www.dataquest.io/blog/introduction-to-ensembles/"
   ]
  },
  {
   "cell_type": "code",
   "execution_count": 2,
   "metadata": {},
   "outputs": [
    {
     "name": "stdout",
     "output_type": "stream",
     "text": [
      "\n",
      "Example data:\n"
     ]
    },
    {
     "data": {
      "text/html": [
       "<div>\n",
       "<style scoped>\n",
       "    .dataframe tbody tr th:only-of-type {\n",
       "        vertical-align: middle;\n",
       "    }\n",
       "\n",
       "    .dataframe tbody tr th {\n",
       "        vertical-align: top;\n",
       "    }\n",
       "\n",
       "    .dataframe thead th {\n",
       "        text-align: right;\n",
       "    }\n",
       "</style>\n",
       "<table border=\"1\" class=\"dataframe\">\n",
       "  <thead>\n",
       "    <tr style=\"text-align: right;\">\n",
       "      <th></th>\n",
       "      <th>cand_pty_affiliation</th>\n",
       "      <th>cand_office_st</th>\n",
       "      <th>cand_office</th>\n",
       "      <th>cand_status</th>\n",
       "      <th>rpt_tp</th>\n",
       "      <th>transaction_tp</th>\n",
       "      <th>entity_tp</th>\n",
       "      <th>state</th>\n",
       "      <th>classification</th>\n",
       "      <th>cycle</th>\n",
       "      <th>transaction_amt</th>\n",
       "    </tr>\n",
       "  </thead>\n",
       "  <tbody>\n",
       "    <tr>\n",
       "      <th>0</th>\n",
       "      <td>REP</td>\n",
       "      <td>US</td>\n",
       "      <td>P</td>\n",
       "      <td>C</td>\n",
       "      <td>Q3</td>\n",
       "      <td>15</td>\n",
       "      <td>IND</td>\n",
       "      <td>NY</td>\n",
       "      <td>Engineer</td>\n",
       "      <td>2016.0</td>\n",
       "      <td>500.0</td>\n",
       "    </tr>\n",
       "    <tr>\n",
       "      <th>1</th>\n",
       "      <td>DEM</td>\n",
       "      <td>US</td>\n",
       "      <td>P</td>\n",
       "      <td>C</td>\n",
       "      <td>M5</td>\n",
       "      <td>15E</td>\n",
       "      <td>IND</td>\n",
       "      <td>OR</td>\n",
       "      <td>Math-Stat</td>\n",
       "      <td>2016.0</td>\n",
       "      <td>50.0</td>\n",
       "    </tr>\n",
       "    <tr>\n",
       "      <th>2</th>\n",
       "      <td>DEM</td>\n",
       "      <td>US</td>\n",
       "      <td>P</td>\n",
       "      <td>C</td>\n",
       "      <td>M3</td>\n",
       "      <td>15</td>\n",
       "      <td>IND</td>\n",
       "      <td>TX</td>\n",
       "      <td>Scientist</td>\n",
       "      <td>2008.0</td>\n",
       "      <td>250.0</td>\n",
       "    </tr>\n",
       "    <tr>\n",
       "      <th>3</th>\n",
       "      <td>DEM</td>\n",
       "      <td>US</td>\n",
       "      <td>P</td>\n",
       "      <td>C</td>\n",
       "      <td>Q2</td>\n",
       "      <td>15E</td>\n",
       "      <td>IND</td>\n",
       "      <td>IN</td>\n",
       "      <td>Math-Stat</td>\n",
       "      <td>2016.0</td>\n",
       "      <td>250.0</td>\n",
       "    </tr>\n",
       "    <tr>\n",
       "      <th>4</th>\n",
       "      <td>REP</td>\n",
       "      <td>US</td>\n",
       "      <td>P</td>\n",
       "      <td>C</td>\n",
       "      <td>12G</td>\n",
       "      <td>15</td>\n",
       "      <td>IND</td>\n",
       "      <td>MA</td>\n",
       "      <td>Engineer</td>\n",
       "      <td>2016.0</td>\n",
       "      <td>184.0</td>\n",
       "    </tr>\n",
       "  </tbody>\n",
       "</table>\n",
       "</div>"
      ],
      "text/plain": [
       "  cand_pty_affiliation cand_office_st cand_office cand_status rpt_tp  \\\n",
       "0                  REP             US           P           C     Q3   \n",
       "1                  DEM             US           P           C     M5   \n",
       "2                  DEM             US           P           C     M3   \n",
       "3                  DEM             US           P           C     Q2   \n",
       "4                  REP             US           P           C    12G   \n",
       "\n",
       "  transaction_tp entity_tp state classification   cycle  transaction_amt  \n",
       "0             15       IND    NY       Engineer  2016.0            500.0  \n",
       "1            15E       IND    OR      Math-Stat  2016.0             50.0  \n",
       "2             15       IND    TX      Scientist  2008.0            250.0  \n",
       "3            15E       IND    IN      Math-Stat  2016.0            250.0  \n",
       "4             15       IND    MA       Engineer  2016.0            184.0  "
      ]
     },
     "execution_count": 2,
     "metadata": {},
     "output_type": "execute_result"
    }
   ],
   "source": [
    "import numpy as np\n",
    "import pandas as pd\n",
    "\n",
    "import matplotlib.pyplot as pblt\n",
    "%matplotlib inline\n",
    "\n",
    "### Import data\n",
    "# Always good to set a seed for reproducibility\n",
    "SEED = 222\n",
    "np.random.seed(SEED)\n",
    "\n",
    "df = pd.read_csv('input.csv')\n",
    "\n",
    "### Training and test set\n",
    "from sklearn.model_selection import train_test_split\n",
    "from sklearn.metrics import roc_auc_score\n",
    "\n",
    "def get_train_test(test_size=0.95):\n",
    "    \"\"\"Split Data into train and test sets.\"\"\"\n",
    "    y = 1 * (df.cand_pty_affiliation == \"REP\")\n",
    "    X = df.drop([\"cand_pty_affiliation\"], axis=1)\n",
    "    X = pd.get_dummies(X, sparse=True)\n",
    "    X.drop(X.columns[X.std() == 0], axis=1, inplace=True)\n",
    "    return train_test_split(X, y, test_size=test_size, random_state=SEED)\n",
    "\n",
    "xtrain, xtest, ytrain, ytest = get_train_test()\n",
    "\n",
    "# A look at the data\n",
    "print(\"\\nExample data:\")\n",
    "df.head()"
   ]
  },
  {
   "cell_type": "code",
   "execution_count": 3,
   "metadata": {},
   "outputs": [
    {
     "ename": "NameError",
     "evalue": "name 'plt' is not defined",
     "output_type": "error",
     "traceback": [
      "\u001b[0;31m---------------------------------------------------------------------------\u001b[0m",
      "\u001b[0;31mNameError\u001b[0m                                 Traceback (most recent call last)",
      "\u001b[0;32m<ipython-input-3-7247b1a74bf6>\u001b[0m in \u001b[0;36m<module>\u001b[0;34m\u001b[0m\n\u001b[1;32m      1\u001b[0m df.cand_pty_affiliation.value_counts(normalize=True).plot(\n\u001b[1;32m      2\u001b[0m     kind=\"bar\", title=\"Share of No. donations\")\n\u001b[0;32m----> 3\u001b[0;31m \u001b[0mplt\u001b[0m\u001b[0;34m.\u001b[0m\u001b[0mshow\u001b[0m\u001b[0;34m(\u001b[0m\u001b[0;34m)\u001b[0m\u001b[0;34m\u001b[0m\u001b[0;34m\u001b[0m\u001b[0m\n\u001b[0m",
      "\u001b[0;31mNameError\u001b[0m: name 'plt' is not defined"
     ]
    },
    {
     "data": {
      "image/png": "[encoded data removed]",
      "text/plain": [
       "<Figure size 432x288 with 1 Axes>"
      ]
     },
     "metadata": {
      "needs_background": "light"
     },
     "output_type": "display_data"
    }
   ],
   "source": [
    "df.cand_pty_affiliation.value_counts(normalize=True).plot(\n",
    "    kind=\"bar\", title=\"Share of No. donations\")\n",
    "plt.show()"
   ]
  },
  {
   "cell_type": "code",
   "execution_count": null,
   "metadata": {},
   "outputs": [],
   "source": [
    "import pydotplus  # you can install pydotplus with: pip install pydotplus \n",
    "from IPython.display import Image\n",
    "from sklearn.metrics import roc_auc_score\n",
    "from sklearn.tree import DecisionTreeClassifier, export_graphviz\n",
    "\n",
    "def print_graph(clf, feature_names):\n",
    "    \"\"\"Print decision tree.\"\"\"\n",
    "    graph = export_graphviz(\n",
    "        clf,\n",
    "        label=\"root\",\n",
    "        proportion=True,\n",
    "        impurity=False, \n",
    "        out_file=None, \n",
    "        feature_names=feature_names,\n",
    "        class_names={0: \"D\", 1: \"R\"},\n",
    "        filled=True,\n",
    "        rounded=True\n",
    "    )\n",
    "    graph = pydotplus.graph_from_dot_data(graph)  \n",
    "    return Image(graph.create_png())"
   ]
  },
  {
   "cell_type": "code",
   "execution_count": null,
   "metadata": {},
   "outputs": [],
   "source": [
    "t1 = DecisionTreeClassifier(max_depth=1, random_state=SEED)\n",
    "t1.fit(xtrain, ytrain)\n",
    "p = t1.predict_proba(xtest)[:, 1]\n",
    "\n",
    "print(\"Decision tree ROC-AUC score: %.3f\" % roc_auc_score(ytest, p))\n",
    "print_graph(t1, xtrain.columns)"
   ]
  },
  {
   "cell_type": "code",
   "execution_count": null,
   "metadata": {},
   "outputs": [],
   "source": [
    "t2 = DecisionTreeClassifier(max_depth=3, random_state=SEED)\n",
    "t2.fit(xtrain, ytrain)\n",
    "p = t2.predict_proba(xtest)[:, 1]\n",
    "\n",
    "print(\"Decision tree ROC-AUC score: %.3f\" % roc_auc_score(ytest, p))\n",
    "print_graph(t2, xtrain.columns)"
   ]
  },
  {
   "cell_type": "code",
   "execution_count": null,
   "metadata": {},
   "outputs": [],
   "source": [
    "drop = [\"transaction_amt\"]\n",
    "\n",
    "xtrain_slim = xtrain.drop(drop, 1)\n",
    "xtest_slim = xtest.drop(drop, 1)\n",
    "\n",
    "t3 = DecisionTreeClassifier(max_depth=3, random_state=SEED)\n",
    "t3.fit(xtrain_slim, ytrain)\n",
    "p = t3.predict_proba(xtest_slim)[:, 1]\n",
    "\n",
    "\n",
    "print(\"Decision tree ROC-AUC score: %.3f\" % roc_auc_score(ytest, p))\n",
    "print_graph(t3, xtrain_slim.columns)"
   ]
  },
  {
   "cell_type": "code",
   "execution_count": null,
   "metadata": {},
   "outputs": [],
   "source": [
    "p1 = t2.predict_proba(xtest)[:, 1]\n",
    "p2 = t3.predict_proba(xtest_slim)[:, 1]\n",
    "\n",
    "pd.DataFrame({\"full_data\": p1,\n",
    "              \"red_data\": p2}).corr()"
   ]
  },
  {
   "cell_type": "code",
   "execution_count": null,
   "metadata": {},
   "outputs": [],
   "source": [
    "p1 = t2.predict_proba(xtest)[:, 1]\n",
    "p2 = t3.predict_proba(xtest_slim)[:, 1]\n",
    "p = np.mean([p1, p2], axis=0)\n",
    "print(\"Average of decision tree ROC-AUC score: %.3f\" % roc_auc_score(ytest, p))"
   ]
  },
  {
   "cell_type": "code",
   "execution_count": null,
   "metadata": {},
   "outputs": [],
   "source": [
    "from sklearn.ensemble import RandomForestClassifier\n",
    "\n",
    "rf = RandomForestClassifier(\n",
    "    n_estimators=10,\n",
    "    max_features=3,\n",
    "    random_state=SEED\n",
    ")\n",
    "\n",
    "rf.fit(xtrain, ytrain)\n",
    "p = rf.predict_proba(xtest)[:, 1]\n",
    "print(\"Average of decision tree ROC-AUC score: %.3f\" % roc_auc_score(ytest, p))"
   ]
  },
  {
   "cell_type": "markdown",
   "metadata": {},
   "source": [
    "\\begin{equation*}\n",
    "e(x)=\\frac{1}{n}\\sum_{i=1}^n f_i (x)\n",
    "\\end{equation*}"
   ]
  },
  {
   "cell_type": "code",
   "execution_count": 4,
   "metadata": {},
   "outputs": [],
   "source": [
    "# A host of Scikit-learn models\n",
    "from sklearn.svm import SVC, LinearSVC\n",
    "from sklearn.naive_bayes import GaussianNB\n",
    "from sklearn.ensemble import RandomForestClassifier, GradientBoostingClassifier\n",
    "from sklearn.linear_model import LogisticRegression\n",
    "from sklearn.neighbors import KNeighborsClassifier\n",
    "from sklearn.neural_network import MLPClassifier\n",
    "from sklearn.kernel_approximation import Nystroem\n",
    "from sklearn.kernel_approximation import RBFSampler\n",
    "from sklearn.pipeline import make_pipeline\n",
    "\n",
    "\n",
    "def get_models():\n",
    "    \"\"\"Generate a library of base learners.\"\"\"\n",
    "    nb = GaussianNB()\n",
    "    svc = SVC(C=100, probability=True)\n",
    "    knn = KNeighborsClassifier(n_neighbors=3)\n",
    "    lr = LogisticRegression(C=100, random_state=SEED)\n",
    "    nn = MLPClassifier((80, 10), early_stopping=False, random_state=SEED)\n",
    "    gb = GradientBoostingClassifier(n_estimators=100, random_state=SEED)\n",
    "    rf = RandomForestClassifier(n_estimators=10, max_features=3, random_state=SEED)\n",
    "\n",
    "    models = {'svm': svc,\n",
    "              'knn': knn,\n",
    "              'naive bayes': nb,\n",
    "              'mlp-nn': nn,\n",
    "              'random forest': rf,\n",
    "              'gbm': gb,\n",
    "              'logistic': lr,\n",
    "              }\n",
    "\n",
    "    return models\n",
    "\n",
    "\n",
    "def train_predict(model_list):\n",
    "    \"\"\"Fit models in list on training set and return preds\"\"\"\n",
    "    P = np.zeros((ytest.shape[0], len(model_list)))\n",
    "    P = pd.DataFrame(P)\n",
    "\n",
    "    print(\"Fitting models.\")\n",
    "    cols = list()\n",
    "    for i, (name, m) in enumerate(models.items()):\n",
    "        print(\"%s...\" % name, end=\" \", flush=False)\n",
    "        m.fit(xtrain, ytrain)\n",
    "        P.iloc[:, i] = m.predict_proba(xtest)[:, 1]\n",
    "        cols.append(name)\n",
    "        print(\"done\")\n",
    "\n",
    "    P.columns = cols\n",
    "    print(\"Done.\\n\")\n",
    "    return P\n",
    "\n",
    "\n",
    "def score_models(P, y):\n",
    "    \"\"\"Score model in prediction DF\"\"\"\n",
    "    print(\"Scoring models.\")\n",
    "    for m in P.columns:\n",
    "        score = roc_auc_score(y, P.loc[:, m])\n",
    "        print(\"%-26s: %.3f\" % (m, score))\n",
    "    print(\"Done.\\n\")"
   ]
  },
  {
   "cell_type": "code",
   "execution_count": 5,
   "metadata": {},
   "outputs": [
    {
     "name": "stdout",
     "output_type": "stream",
     "text": [
      "Fitting models.\n",
      "svm... "
     ]
    },
    {
     "name": "stderr",
     "output_type": "stream",
     "text": [
      "/home/asu/miniconda3/envs/EnsembleLearning/lib/python3.7/site-packages/sklearn/svm/base.py:196: FutureWarning: The default value of gamma will change from 'auto' to 'scale' in version 0.22 to account better for unscaled features. Set gamma explicitly to 'auto' or 'scale' to avoid this warning.\n",
      "  \"avoid this warning.\", FutureWarning)\n"
     ]
    },
    {
     "name": "stdout",
     "output_type": "stream",
     "text": [
      "done\n",
      "knn... done\n",
      "naive bayes... done\n",
      "mlp-nn... done\n",
      "random forest... done\n",
      "gbm... done\n",
      "logistic... "
     ]
    },
    {
     "name": "stderr",
     "output_type": "stream",
     "text": [
      "/home/asu/miniconda3/envs/EnsembleLearning/lib/python3.7/site-packages/sklearn/linear_model/logistic.py:433: FutureWarning: Default solver will be changed to 'lbfgs' in 0.22. Specify a solver to silence this warning.\n",
      "  FutureWarning)\n"
     ]
    },
    {
     "name": "stdout",
     "output_type": "stream",
     "text": [
      "done\n",
      "Done.\n",
      "\n",
      "Scoring models.\n",
      "svm                       : 0.850\n",
      "knn                       : 0.779\n",
      "naive bayes               : 0.803\n",
      "mlp-nn                    : 0.873\n",
      "random forest             : 0.844\n",
      "gbm                       : 0.878\n",
      "logistic                  : 0.857\n",
      "Done.\n",
      "\n"
     ]
    }
   ],
   "source": [
    "models = get_models()\n",
    "P = train_predict(models)\n",
    "score_models(P, ytest)"
   ]
  },
  {
   "cell_type": "code",
   "execution_count": 6,
   "metadata": {},
   "outputs": [
    {
     "name": "stderr",
     "output_type": "stream",
     "text": [
      "[MLENS] backend: threading\n"
     ]
    },
    {
     "ename": "NameError",
     "evalue": "name 'diverging_palette' is not defined",
     "output_type": "error",
     "traceback": [
      "\u001b[0;31m---------------------------------------------------------------------------\u001b[0m",
      "\u001b[0;31mNameError\u001b[0m                                 Traceback (most recent call last)",
      "\u001b[0;32m<ipython-input-6-edd03ef24bb5>\u001b[0m in \u001b[0;36m<module>\u001b[0;34m\u001b[0m\n\u001b[1;32m      2\u001b[0m \u001b[0;32mfrom\u001b[0m \u001b[0mmlens\u001b[0m\u001b[0;34m.\u001b[0m\u001b[0mvisualization\u001b[0m \u001b[0;32mimport\u001b[0m \u001b[0mcorrmat\u001b[0m\u001b[0;34m\u001b[0m\u001b[0;34m\u001b[0m\u001b[0m\n\u001b[1;32m      3\u001b[0m \u001b[0;34m\u001b[0m\u001b[0m\n\u001b[0;32m----> 4\u001b[0;31m \u001b[0mcorrmat\u001b[0m\u001b[0;34m(\u001b[0m\u001b[0mP\u001b[0m\u001b[0;34m.\u001b[0m\u001b[0mcorr\u001b[0m\u001b[0;34m(\u001b[0m\u001b[0;34m)\u001b[0m\u001b[0;34m,\u001b[0m \u001b[0minflate\u001b[0m\u001b[0;34m=\u001b[0m\u001b[0;32mFalse\u001b[0m\u001b[0;34m)\u001b[0m\u001b[0;34m\u001b[0m\u001b[0;34m\u001b[0m\u001b[0m\n\u001b[0m\u001b[1;32m      5\u001b[0m \u001b[0mplt\u001b[0m\u001b[0;34m.\u001b[0m\u001b[0mshow\u001b[0m\u001b[0;34m(\u001b[0m\u001b[0;34m)\u001b[0m\u001b[0;34m\u001b[0m\u001b[0;34m\u001b[0m\u001b[0m\n",
      "\u001b[0;32m~/miniconda3/envs/EnsembleLearning/lib/python3.7/site-packages/mlens/visualization/correlations.py\u001b[0m in \u001b[0;36mcorrmat\u001b[0;34m(corr, figsize, annotate, inflate, linewidths, cbar_kws, show, ax, title, title_font_size, **kwargs)\u001b[0m\n\u001b[1;32m     98\u001b[0m \u001b[0;34m\u001b[0m\u001b[0m\n\u001b[1;32m     99\u001b[0m     \u001b[0;31m# Generate a custom diverging colormap\u001b[0m\u001b[0;34m\u001b[0m\u001b[0;34m\u001b[0m\u001b[0;34m\u001b[0m\u001b[0m\n\u001b[0;32m--> 100\u001b[0;31m     \u001b[0mcmap\u001b[0m \u001b[0;34m=\u001b[0m \u001b[0mdiverging_palette\u001b[0m\u001b[0;34m(\u001b[0m\u001b[0;36m220\u001b[0m\u001b[0;34m,\u001b[0m \u001b[0;36m10\u001b[0m\u001b[0;34m,\u001b[0m \u001b[0mas_cmap\u001b[0m\u001b[0;34m=\u001b[0m\u001b[0;32mTrue\u001b[0m\u001b[0;34m)\u001b[0m\u001b[0;34m\u001b[0m\u001b[0;34m\u001b[0m\u001b[0m\n\u001b[0m\u001b[1;32m    101\u001b[0m \u001b[0;34m\u001b[0m\u001b[0m\n\u001b[1;32m    102\u001b[0m     \u001b[0;31m# Draw the heatmap with the mask and correct aspect ratio\u001b[0m\u001b[0;34m\u001b[0m\u001b[0;34m\u001b[0m\u001b[0;34m\u001b[0m\u001b[0m\n",
      "\u001b[0;31mNameError\u001b[0m: name 'diverging_palette' is not defined"
     ]
    },
    {
     "data": {
      "image/png": "[encoded data removed]",
      "text/plain": [
       "<Figure size 792x648 with 1 Axes>"
      ]
     },
     "metadata": {
      "needs_background": "light"
     },
     "output_type": "display_data"
    }
   ],
   "source": [
    "# You need ML-Ensemble for this figure: you can install it with: pip install mlens\n",
    "from mlens.visualization import corrmat\n",
    "\n",
    "corrmat(P.corr(), inflate=False)\n",
    "plt.show()"
   ]
  }
 ],
 "metadata": {
  "kernelspec": {
   "display_name": "Python 3",
   "language": "python",
   "name": "python3"
  }
 },
 "nbformat": 4,
 "nbformat_minor": 2
}
