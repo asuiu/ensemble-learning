{
  "cells": [
    {
      "cell_type": "markdown",
      "metadata": {
        "pycharm": {}
      },
      "source": [
        "## This notebook is inspired from:\n",
        "    https://www.dataquest.io/blog/introduction-to-ensembles/"
      ]
    },
    {
      "cell_type": "code",
      "execution_count": 1,
      "metadata": {
        "pycharm": {
          "is_executing": false
        }
      },
      "outputs": [
        {
          "traceback": [
            "\u001b[1;31m---------------------------------------------------------------------------\u001b[0m",
            "\u001b[1;31mFileNotFoundError\u001b[0m                         Traceback (most recent call last)",
            "\u001b[1;32m\u003cipython-input-1-1665840dfa0b\u003e\u001b[0m in \u001b[0;36m\u003cmodule\u003e\u001b[1;34m\u001b[0m\n\u001b[0;32m     10\u001b[0m \u001b[0mnp\u001b[0m\u001b[1;33m.\u001b[0m\u001b[0mrandom\u001b[0m\u001b[1;33m.\u001b[0m\u001b[0mseed\u001b[0m\u001b[1;33m(\u001b[0m\u001b[0mSEED\u001b[0m\u001b[1;33m)\u001b[0m\u001b[1;33m\u001b[0m\u001b[1;33m\u001b[0m\u001b[0m\n\u001b[0;32m     11\u001b[0m \u001b[1;33m\u001b[0m\u001b[0m\n\u001b[1;32m---\u003e 12\u001b[1;33m \u001b[0mdf\u001b[0m \u001b[1;33m\u003d\u001b[0m \u001b[0mpd\u001b[0m\u001b[1;33m.\u001b[0m\u001b[0mread_csv\u001b[0m\u001b[1;33m(\u001b[0m\u001b[1;34m\u0027input.csv\u0027\u001b[0m\u001b[1;33m)\u001b[0m\u001b[1;33m\u001b[0m\u001b[1;33m\u001b[0m\u001b[0m\n\u001b[0m\u001b[0;32m     13\u001b[0m \u001b[1;33m\u001b[0m\u001b[0m\n\u001b[0;32m     14\u001b[0m \u001b[1;31m### Training and test set\u001b[0m\u001b[1;33m\u001b[0m\u001b[1;33m\u001b[0m\u001b[1;33m\u001b[0m\u001b[0m\n",
            "\u001b[1;32mC:\\ProgramData\\miniconda3\\envs\\SuperLearner\\lib\\site-packages\\pandas\\io\\parsers.py\u001b[0m in \u001b[0;36mparser_f\u001b[1;34m(filepath_or_buffer, sep, delimiter, header, names, index_col, usecols, squeeze, prefix, mangle_dupe_cols, dtype, engine, converters, true_values, false_values, skipinitialspace, skiprows, skipfooter, nrows, na_values, keep_default_na, na_filter, verbose, skip_blank_lines, parse_dates, infer_datetime_format, keep_date_col, date_parser, dayfirst, iterator, chunksize, compression, thousands, decimal, lineterminator, quotechar, quoting, doublequote, escapechar, comment, encoding, dialect, tupleize_cols, error_bad_lines, warn_bad_lines, delim_whitespace, low_memory, memory_map, float_precision)\u001b[0m\n\u001b[0;32m    700\u001b[0m                     skip_blank_lines\u003dskip_blank_lines)\n\u001b[0;32m    701\u001b[0m \u001b[1;33m\u001b[0m\u001b[0m\n\u001b[1;32m--\u003e 702\u001b[1;33m         \u001b[1;32mreturn\u001b[0m \u001b[0m_read\u001b[0m\u001b[1;33m(\u001b[0m\u001b[0mfilepath_or_buffer\u001b[0m\u001b[1;33m,\u001b[0m \u001b[0mkwds\u001b[0m\u001b[1;33m)\u001b[0m\u001b[1;33m\u001b[0m\u001b[1;33m\u001b[0m\u001b[0m\n\u001b[0m\u001b[0;32m    703\u001b[0m \u001b[1;33m\u001b[0m\u001b[0m\n\u001b[0;32m    704\u001b[0m     \u001b[0mparser_f\u001b[0m\u001b[1;33m.\u001b[0m\u001b[0m__name__\u001b[0m \u001b[1;33m\u003d\u001b[0m \u001b[0mname\u001b[0m\u001b[1;33m\u001b[0m\u001b[1;33m\u001b[0m\u001b[0m\n",
            "\u001b[1;32mC:\\ProgramData\\miniconda3\\envs\\SuperLearner\\lib\\site-packages\\pandas\\io\\parsers.py\u001b[0m in \u001b[0;36m_read\u001b[1;34m(filepath_or_buffer, kwds)\u001b[0m\n\u001b[0;32m    427\u001b[0m \u001b[1;33m\u001b[0m\u001b[0m\n\u001b[0;32m    428\u001b[0m     \u001b[1;31m# Create the parser.\u001b[0m\u001b[1;33m\u001b[0m\u001b[1;33m\u001b[0m\u001b[1;33m\u001b[0m\u001b[0m\n\u001b[1;32m--\u003e 429\u001b[1;33m     \u001b[0mparser\u001b[0m \u001b[1;33m\u003d\u001b[0m \u001b[0mTextFileReader\u001b[0m\u001b[1;33m(\u001b[0m\u001b[0mfilepath_or_buffer\u001b[0m\u001b[1;33m,\u001b[0m \u001b[1;33m**\u001b[0m\u001b[0mkwds\u001b[0m\u001b[1;33m)\u001b[0m\u001b[1;33m\u001b[0m\u001b[1;33m\u001b[0m\u001b[0m\n\u001b[0m\u001b[0;32m    430\u001b[0m \u001b[1;33m\u001b[0m\u001b[0m\n\u001b[0;32m    431\u001b[0m     \u001b[1;32mif\u001b[0m \u001b[0mchunksize\u001b[0m \u001b[1;32mor\u001b[0m \u001b[0miterator\u001b[0m\u001b[1;33m:\u001b[0m\u001b[1;33m\u001b[0m\u001b[1;33m\u001b[0m\u001b[0m\n",
            "\u001b[1;32mC:\\ProgramData\\miniconda3\\envs\\SuperLearner\\lib\\site-packages\\pandas\\io\\parsers.py\u001b[0m in \u001b[0;36m__init__\u001b[1;34m(self, f, engine, **kwds)\u001b[0m\n\u001b[0;32m    893\u001b[0m             \u001b[0mself\u001b[0m\u001b[1;33m.\u001b[0m\u001b[0moptions\u001b[0m\u001b[1;33m[\u001b[0m\u001b[1;34m\u0027has_index_names\u0027\u001b[0m\u001b[1;33m]\u001b[0m \u001b[1;33m\u003d\u001b[0m \u001b[0mkwds\u001b[0m\u001b[1;33m[\u001b[0m\u001b[1;34m\u0027has_index_names\u0027\u001b[0m\u001b[1;33m]\u001b[0m\u001b[1;33m\u001b[0m\u001b[1;33m\u001b[0m\u001b[0m\n\u001b[0;32m    894\u001b[0m \u001b[1;33m\u001b[0m\u001b[0m\n\u001b[1;32m--\u003e 895\u001b[1;33m         \u001b[0mself\u001b[0m\u001b[1;33m.\u001b[0m\u001b[0m_make_engine\u001b[0m\u001b[1;33m(\u001b[0m\u001b[0mself\u001b[0m\u001b[1;33m.\u001b[0m\u001b[0mengine\u001b[0m\u001b[1;33m)\u001b[0m\u001b[1;33m\u001b[0m\u001b[1;33m\u001b[0m\u001b[0m\n\u001b[0m\u001b[0;32m    896\u001b[0m \u001b[1;33m\u001b[0m\u001b[0m\n\u001b[0;32m    897\u001b[0m     \u001b[1;32mdef\u001b[0m \u001b[0mclose\u001b[0m\u001b[1;33m(\u001b[0m\u001b[0mself\u001b[0m\u001b[1;33m)\u001b[0m\u001b[1;33m:\u001b[0m\u001b[1;33m\u001b[0m\u001b[1;33m\u001b[0m\u001b[0m\n",
            "\u001b[1;32mC:\\ProgramData\\miniconda3\\envs\\SuperLearner\\lib\\site-packages\\pandas\\io\\parsers.py\u001b[0m in \u001b[0;36m_make_engine\u001b[1;34m(self, engine)\u001b[0m\n\u001b[0;32m   1120\u001b[0m     \u001b[1;32mdef\u001b[0m \u001b[0m_make_engine\u001b[0m\u001b[1;33m(\u001b[0m\u001b[0mself\u001b[0m\u001b[1;33m,\u001b[0m \u001b[0mengine\u001b[0m\u001b[1;33m\u003d\u001b[0m\u001b[1;34m\u0027c\u0027\u001b[0m\u001b[1;33m)\u001b[0m\u001b[1;33m:\u001b[0m\u001b[1;33m\u001b[0m\u001b[1;33m\u001b[0m\u001b[0m\n\u001b[0;32m   1121\u001b[0m         \u001b[1;32mif\u001b[0m \u001b[0mengine\u001b[0m \u001b[1;33m\u003d\u003d\u001b[0m \u001b[1;34m\u0027c\u0027\u001b[0m\u001b[1;33m:\u001b[0m\u001b[1;33m\u001b[0m\u001b[1;33m\u001b[0m\u001b[0m\n\u001b[1;32m-\u003e 1122\u001b[1;33m             \u001b[0mself\u001b[0m\u001b[1;33m.\u001b[0m\u001b[0m_engine\u001b[0m \u001b[1;33m\u003d\u001b[0m \u001b[0mCParserWrapper\u001b[0m\u001b[1;33m(\u001b[0m\u001b[0mself\u001b[0m\u001b[1;33m.\u001b[0m\u001b[0mf\u001b[0m\u001b[1;33m,\u001b[0m \u001b[1;33m**\u001b[0m\u001b[0mself\u001b[0m\u001b[1;33m.\u001b[0m\u001b[0moptions\u001b[0m\u001b[1;33m)\u001b[0m\u001b[1;33m\u001b[0m\u001b[1;33m\u001b[0m\u001b[0m\n\u001b[0m\u001b[0;32m   1123\u001b[0m         \u001b[1;32melse\u001b[0m\u001b[1;33m:\u001b[0m\u001b[1;33m\u001b[0m\u001b[1;33m\u001b[0m\u001b[0m\n\u001b[0;32m   1124\u001b[0m             \u001b[1;32mif\u001b[0m \u001b[0mengine\u001b[0m \u001b[1;33m\u003d\u003d\u001b[0m \u001b[1;34m\u0027python\u0027\u001b[0m\u001b[1;33m:\u001b[0m\u001b[1;33m\u001b[0m\u001b[1;33m\u001b[0m\u001b[0m\n",
            "\u001b[1;32mC:\\ProgramData\\miniconda3\\envs\\SuperLearner\\lib\\site-packages\\pandas\\io\\parsers.py\u001b[0m in \u001b[0;36m__init__\u001b[1;34m(self, src, **kwds)\u001b[0m\n\u001b[0;32m   1851\u001b[0m         \u001b[0mkwds\u001b[0m\u001b[1;33m[\u001b[0m\u001b[1;34m\u0027usecols\u0027\u001b[0m\u001b[1;33m]\u001b[0m \u001b[1;33m\u003d\u001b[0m \u001b[0mself\u001b[0m\u001b[1;33m.\u001b[0m\u001b[0musecols\u001b[0m\u001b[1;33m\u001b[0m\u001b[1;33m\u001b[0m\u001b[0m\n\u001b[0;32m   1852\u001b[0m \u001b[1;33m\u001b[0m\u001b[0m\n\u001b[1;32m-\u003e 1853\u001b[1;33m         \u001b[0mself\u001b[0m\u001b[1;33m.\u001b[0m\u001b[0m_reader\u001b[0m \u001b[1;33m\u003d\u001b[0m \u001b[0mparsers\u001b[0m\u001b[1;33m.\u001b[0m\u001b[0mTextReader\u001b[0m\u001b[1;33m(\u001b[0m\u001b[0msrc\u001b[0m\u001b[1;33m,\u001b[0m \u001b[1;33m**\u001b[0m\u001b[0mkwds\u001b[0m\u001b[1;33m)\u001b[0m\u001b[1;33m\u001b[0m\u001b[1;33m\u001b[0m\u001b[0m\n\u001b[0m\u001b[0;32m   1854\u001b[0m         \u001b[0mself\u001b[0m\u001b[1;33m.\u001b[0m\u001b[0munnamed_cols\u001b[0m \u001b[1;33m\u003d\u001b[0m \u001b[0mself\u001b[0m\u001b[1;33m.\u001b[0m\u001b[0m_reader\u001b[0m\u001b[1;33m.\u001b[0m\u001b[0munnamed_cols\u001b[0m\u001b[1;33m\u001b[0m\u001b[1;33m\u001b[0m\u001b[0m\n\u001b[0;32m   1855\u001b[0m \u001b[1;33m\u001b[0m\u001b[0m\n",
            "\u001b[1;32mpandas\\_libs\\parsers.pyx\u001b[0m in \u001b[0;36mpandas._libs.parsers.TextReader.__cinit__\u001b[1;34m()\u001b[0m\n",
            "\u001b[1;32mpandas\\_libs\\parsers.pyx\u001b[0m in \u001b[0;36mpandas._libs.parsers.TextReader._setup_parser_source\u001b[1;34m()\u001b[0m\n",
            "\u001b[1;31mFileNotFoundError\u001b[0m: [Errno 2] File b\u0027input.csv\u0027 does not exist: b\u0027input.csv\u0027"
          ],
          "ename": "FileNotFoundError",
          "evalue": "[Errno 2] File b\u0027input.csv\u0027 does not exist: b\u0027input.csv\u0027",
          "output_type": "error"
        }
      ],
      "source": [
        "import numpy as np\n",
        "import pandas as pd\n",
        "\n",
        "import matplotlib.pyplot as pblt\n",
        "%matplotlib inline\n",
        "\n",
        "### Import data\n",
        "# Always good to set a seed for reproducibility\n",
        "SEED \u003d 222\n",
        "np.random.seed(SEED)\n",
        "\n",
        "df \u003d pd.read_csv(\u0027input.csv\u0027)\n",
        "\n",
        "### Training and test set\n",
        "from sklearn.model_selection import train_test_split\n",
        "from sklearn.metrics import roc_auc_score\n",
        "\n",
        "def get_train_test(test_size\u003d0.95):\n",
        "    \"\"\"Split Data into train and test sets.\"\"\"\n",
        "    y \u003d 1 * (df.cand_pty_affiliation \u003d\u003d \"REP\")\n",
        "    X \u003d df.drop([\"cand_pty_affiliation\"], axis\u003d1)\n",
        "    X \u003d pd.get_dummies(X, sparse\u003dTrue)\n",
        "    X.drop(X.columns[X.std() \u003d\u003d 0], axis\u003d1, inplace\u003dTrue)\n",
        "    return train_test_split(X, y, test_size\u003dtest_size, random_state\u003dSEED)\n",
        "\n",
        "xtrain, xtest, ytrain, ytest \u003d get_train_test()\n",
        "\n",
        "# A look at the data\n",
        "print(\"\\nExample data:\")\n",
        "df.head()"
      ]
    },
    {
      "cell_type": "code",
      "execution_count": 3,
      "metadata": {
        "pycharm": {}
      },
      "outputs": [
        {
          "ename": "NameError",
          "evalue": "name \u0027plt\u0027 is not defined",
          "output_type": "error",
          "traceback": [
            "\u001b[0;31m---------------------------------------------------------------------------\u001b[0m",
            "\u001b[0;31mNameError\u001b[0m                                 Traceback (most recent call last)",
            "\u001b[0;32m\u003cipython-input-3-7247b1a74bf6\u003e\u001b[0m in \u001b[0;36m\u003cmodule\u003e\u001b[0;34m\u001b[0m\n\u001b[1;32m      1\u001b[0m df.cand_pty_affiliation.value_counts(normalize\u003dTrue).plot(\n\u001b[1;32m      2\u001b[0m     kind\u003d\"bar\", title\u003d\"Share of No. donations\")\n\u001b[0;32m----\u003e 3\u001b[0;31m \u001b[0mplt\u001b[0m\u001b[0;34m.\u001b[0m\u001b[0mshow\u001b[0m\u001b[0;34m(\u001b[0m\u001b[0;34m)\u001b[0m\u001b[0;34m\u001b[0m\u001b[0;34m\u001b[0m\u001b[0m\n\u001b[0m",
            "\u001b[0;31mNameError\u001b[0m: name \u0027plt\u0027 is not defined"
          ]
        },
        {
          "data": {
            "image/png": "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\u003d\u003d\n",
            "text/plain": [
              "\u003cFigure size 432x288 with 1 Axes\u003e"
            ]
          },
          "metadata": {
            "needs_background": "light"
          },
          "output_type": "display_data"
        }
      ],
      "source": [
        "df.cand_pty_affiliation.value_counts(normalize\u003dTrue).plot(\n",
        "    kind\u003d\"bar\", title\u003d\"Share of No. donations\")\n",
        "plt.show()"
      ]
    },
    {
      "cell_type": "code",
      "execution_count": null,
      "metadata": {
        "pycharm": {}
      },
      "outputs": [],
      "source": [
        "import pydotplus  # you can install pydotplus with: pip install pydotplus \n",
        "from IPython.display import Image\n",
        "from sklearn.metrics import roc_auc_score\n",
        "from sklearn.tree import DecisionTreeClassifier, export_graphviz\n",
        "\n",
        "def print_graph(clf, feature_names):\n",
        "    \"\"\"Print decision tree.\"\"\"\n",
        "    graph \u003d export_graphviz(\n",
        "        clf,\n",
        "        label\u003d\"root\",\n",
        "        proportion\u003dTrue,\n",
        "        impurity\u003dFalse, \n",
        "        out_file\u003dNone, \n",
        "        feature_names\u003dfeature_names,\n",
        "        class_names\u003d{0: \"D\", 1: \"R\"},\n",
        "        filled\u003dTrue,\n",
        "        rounded\u003dTrue\n",
        "    )\n",
        "    graph \u003d pydotplus.graph_from_dot_data(graph)  \n",
        "    return Image(graph.create_png())"
      ]
    },
    {
      "cell_type": "code",
      "execution_count": null,
      "metadata": {
        "pycharm": {}
      },
      "outputs": [],
      "source": [
        "t1 \u003d DecisionTreeClassifier(max_depth\u003d1, random_state\u003dSEED)\n",
        "t1.fit(xtrain, ytrain)\n",
        "p \u003d t1.predict_proba(xtest)[:, 1]\n",
        "\n",
        "print(\"Decision tree ROC-AUC score: %.3f\" % roc_auc_score(ytest, p))\n",
        "print_graph(t1, xtrain.columns)"
      ]
    },
    {
      "cell_type": "code",
      "execution_count": null,
      "metadata": {
        "pycharm": {}
      },
      "outputs": [],
      "source": [
        "t2 \u003d DecisionTreeClassifier(max_depth\u003d3, random_state\u003dSEED)\n",
        "t2.fit(xtrain, ytrain)\n",
        "p \u003d t2.predict_proba(xtest)[:, 1]\n",
        "\n",
        "print(\"Decision tree ROC-AUC score: %.3f\" % roc_auc_score(ytest, p))\n",
        "print_graph(t2, xtrain.columns)"
      ]
    },
    {
      "cell_type": "code",
      "execution_count": null,
      "metadata": {
        "pycharm": {}
      },
      "outputs": [],
      "source": [
        "drop \u003d [\"transaction_amt\"]\n",
        "\n",
        "xtrain_slim \u003d xtrain.drop(drop, 1)\n",
        "xtest_slim \u003d xtest.drop(drop, 1)\n",
        "\n",
        "t3 \u003d DecisionTreeClassifier(max_depth\u003d3, random_state\u003dSEED)\n",
        "t3.fit(xtrain_slim, ytrain)\n",
        "p \u003d t3.predict_proba(xtest_slim)[:, 1]\n",
        "\n",
        "\n",
        "print(\"Decision tree ROC-AUC score: %.3f\" % roc_auc_score(ytest, p))\n",
        "print_graph(t3, xtrain_slim.columns)"
      ]
    },
    {
      "cell_type": "code",
      "execution_count": null,
      "metadata": {
        "pycharm": {}
      },
      "outputs": [],
      "source": [
        "p1 \u003d t2.predict_proba(xtest)[:, 1]\n",
        "p2 \u003d t3.predict_proba(xtest_slim)[:, 1]\n",
        "\n",
        "pd.DataFrame({\"full_data\": p1,\n",
        "              \"red_data\": p2}).corr()"
      ]
    },
    {
      "cell_type": "code",
      "execution_count": null,
      "metadata": {
        "pycharm": {}
      },
      "outputs": [],
      "source": [
        "p1 \u003d t2.predict_proba(xtest)[:, 1]\n",
        "p2 \u003d t3.predict_proba(xtest_slim)[:, 1]\n",
        "p \u003d np.mean([p1, p2], axis\u003d0)\n",
        "print(\"Average of decision tree ROC-AUC score: %.3f\" % roc_auc_score(ytest, p))"
      ]
    },
    {
      "cell_type": "code",
      "execution_count": null,
      "metadata": {
        "pycharm": {}
      },
      "outputs": [],
      "source": [
        "from sklearn.ensemble import RandomForestClassifier\n",
        "\n",
        "rf \u003d RandomForestClassifier(\n",
        "    n_estimators\u003d10,\n",
        "    max_features\u003d3,\n",
        "    random_state\u003dSEED\n",
        ")\n",
        "\n",
        "rf.fit(xtrain, ytrain)\n",
        "p \u003d rf.predict_proba(xtest)[:, 1]\n",
        "print(\"Average of decision tree ROC-AUC score: %.3f\" % roc_auc_score(ytest, p))"
      ]
    },
    {
      "cell_type": "markdown",
      "metadata": {
        "pycharm": {}
      },
      "source": [
        "\\begin{equation*}\n",
        "e(x)\u003d\\frac{1}{n}\\sum_{i\u003d1}^n f_i (x)\n",
        "\\end{equation*}"
      ]
    },
    {
      "cell_type": "code",
      "execution_count": 4,
      "metadata": {
        "pycharm": {}
      },
      "outputs": [],
      "source": [
        "# A host of Scikit-learn models\n",
        "from sklearn.svm import SVC, LinearSVC\n",
        "from sklearn.naive_bayes import GaussianNB\n",
        "from sklearn.ensemble import RandomForestClassifier, GradientBoostingClassifier\n",
        "from sklearn.linear_model import LogisticRegression\n",
        "from sklearn.neighbors import KNeighborsClassifier\n",
        "from sklearn.neural_network import MLPClassifier\n",
        "from sklearn.kernel_approximation import Nystroem\n",
        "from sklearn.kernel_approximation import RBFSampler\n",
        "from sklearn.pipeline import make_pipeline\n",
        "\n",
        "\n",
        "def get_models():\n",
        "    \"\"\"Generate a library of base learners.\"\"\"\n",
        "    nb \u003d GaussianNB()\n",
        "    svc \u003d SVC(C\u003d100, probability\u003dTrue)\n",
        "    knn \u003d KNeighborsClassifier(n_neighbors\u003d3)\n",
        "    lr \u003d LogisticRegression(C\u003d100, random_state\u003dSEED)\n",
        "    nn \u003d MLPClassifier((80, 10), early_stopping\u003dFalse, random_state\u003dSEED)\n",
        "    gb \u003d GradientBoostingClassifier(n_estimators\u003d100, random_state\u003dSEED)\n",
        "    rf \u003d RandomForestClassifier(n_estimators\u003d10, max_features\u003d3, random_state\u003dSEED)\n",
        "\n",
        "    models \u003d {\u0027svm\u0027: svc,\n",
        "              \u0027knn\u0027: knn,\n",
        "              \u0027naive bayes\u0027: nb,\n",
        "              \u0027mlp-nn\u0027: nn,\n",
        "              \u0027random forest\u0027: rf,\n",
        "              \u0027gbm\u0027: gb,\n",
        "              \u0027logistic\u0027: lr,\n",
        "              }\n",
        "\n",
        "    return models\n",
        "\n",
        "\n",
        "def train_predict(model_list):\n",
        "    \"\"\"Fit models in list on training set and return preds\"\"\"\n",
        "    P \u003d np.zeros((ytest.shape[0], len(model_list)))\n",
        "    P \u003d pd.DataFrame(P)\n",
        "\n",
        "    print(\"Fitting models.\")\n",
        "    cols \u003d list()\n",
        "    for i, (name, m) in enumerate(models.items()):\n",
        "        print(\"%s...\" % name, end\u003d\" \", flush\u003dFalse)\n",
        "        m.fit(xtrain, ytrain)\n",
        "        P.iloc[:, i] \u003d m.predict_proba(xtest)[:, 1]\n",
        "        cols.append(name)\n",
        "        print(\"done\")\n",
        "\n",
        "    P.columns \u003d cols\n",
        "    print(\"Done.\\n\")\n",
        "    return P\n",
        "\n",
        "\n",
        "def score_models(P, y):\n",
        "    \"\"\"Score model in prediction DF\"\"\"\n",
        "    print(\"Scoring models.\")\n",
        "    for m in P.columns:\n",
        "        score \u003d roc_auc_score(y, P.loc[:, m])\n",
        "        print(\"%-26s: %.3f\" % (m, score))\n",
        "    print(\"Done.\\n\")"
      ]
    },
    {
      "cell_type": "code",
      "execution_count": 5,
      "metadata": {
        "pycharm": {}
      },
      "outputs": [
        {
          "name": "stdout",
          "output_type": "stream",
          "text": [
            "Fitting models.\n",
            "svm... "
          ]
        },
        {
          "name": "stderr",
          "output_type": "stream",
          "text": [
            "/home/asu/miniconda3/envs/EnsembleLearning/lib/python3.7/site-packages/sklearn/svm/base.py:196: FutureWarning: The default value of gamma will change from \u0027auto\u0027 to \u0027scale\u0027 in version 0.22 to account better for unscaled features. Set gamma explicitly to \u0027auto\u0027 or \u0027scale\u0027 to avoid this warning.\n",
            "  \"avoid this warning.\", FutureWarning)\n"
          ]
        },
        {
          "name": "stdout",
          "output_type": "stream",
          "text": [
            "done\n",
            "knn... done\n",
            "naive bayes... done\n",
            "mlp-nn... done\n",
            "random forest... done\n",
            "gbm... done\n",
            "logistic... "
          ]
        },
        {
          "name": "stderr",
          "output_type": "stream",
          "text": [
            "/home/asu/miniconda3/envs/EnsembleLearning/lib/python3.7/site-packages/sklearn/linear_model/logistic.py:433: FutureWarning: Default solver will be changed to \u0027lbfgs\u0027 in 0.22. Specify a solver to silence this warning.\n",
            "  FutureWarning)\n"
          ]
        },
        {
          "name": "stdout",
          "output_type": "stream",
          "text": [
            "done\n",
            "Done.\n",
            "\n",
            "Scoring models.\n",
            "svm                       : 0.850\n",
            "knn                       : 0.779\n",
            "naive bayes               : 0.803\n",
            "mlp-nn                    : 0.873\n",
            "random forest             : 0.844\n",
            "gbm                       : 0.878\n",
            "logistic                  : 0.857\n",
            "Done.\n",
            "\n"
          ]
        }
      ],
      "source": [
        "models \u003d get_models()\n",
        "P \u003d train_predict(models)\n",
        "score_models(P, ytest)"
      ]
    },
    {
      "cell_type": "code",
      "execution_count": 6,
      "metadata": {
        "pycharm": {}
      },
      "outputs": [
        {
          "name": "stderr",
          "output_type": "stream",
          "text": [
            "[MLENS] backend: threading\n"
          ]
        },
        {
          "ename": "NameError",
          "evalue": "name \u0027diverging_palette\u0027 is not defined",
          "output_type": "error",
          "traceback": [
            "\u001b[0;31m---------------------------------------------------------------------------\u001b[0m",
            "\u001b[0;31mNameError\u001b[0m                                 Traceback (most recent call last)",
            "\u001b[0;32m\u003cipython-input-6-edd03ef24bb5\u003e\u001b[0m in \u001b[0;36m\u003cmodule\u003e\u001b[0;34m\u001b[0m\n\u001b[1;32m      2\u001b[0m \u001b[0;32mfrom\u001b[0m \u001b[0mmlens\u001b[0m\u001b[0;34m.\u001b[0m\u001b[0mvisualization\u001b[0m \u001b[0;32mimport\u001b[0m \u001b[0mcorrmat\u001b[0m\u001b[0;34m\u001b[0m\u001b[0;34m\u001b[0m\u001b[0m\n\u001b[1;32m      3\u001b[0m \u001b[0;34m\u001b[0m\u001b[0m\n\u001b[0;32m----\u003e 4\u001b[0;31m \u001b[0mcorrmat\u001b[0m\u001b[0;34m(\u001b[0m\u001b[0mP\u001b[0m\u001b[0;34m.\u001b[0m\u001b[0mcorr\u001b[0m\u001b[0;34m(\u001b[0m\u001b[0;34m)\u001b[0m\u001b[0;34m,\u001b[0m \u001b[0minflate\u001b[0m\u001b[0;34m\u003d\u001b[0m\u001b[0;32mFalse\u001b[0m\u001b[0;34m)\u001b[0m\u001b[0;34m\u001b[0m\u001b[0;34m\u001b[0m\u001b[0m\n\u001b[0m\u001b[1;32m      5\u001b[0m \u001b[0mplt\u001b[0m\u001b[0;34m.\u001b[0m\u001b[0mshow\u001b[0m\u001b[0;34m(\u001b[0m\u001b[0;34m)\u001b[0m\u001b[0;34m\u001b[0m\u001b[0;34m\u001b[0m\u001b[0m\n",
            "\u001b[0;32m~/miniconda3/envs/EnsembleLearning/lib/python3.7/site-packages/mlens/visualization/correlations.py\u001b[0m in \u001b[0;36mcorrmat\u001b[0;34m(corr, figsize, annotate, inflate, linewidths, cbar_kws, show, ax, title, title_font_size, **kwargs)\u001b[0m\n\u001b[1;32m     98\u001b[0m \u001b[0;34m\u001b[0m\u001b[0m\n\u001b[1;32m     99\u001b[0m     \u001b[0;31m# Generate a custom diverging colormap\u001b[0m\u001b[0;34m\u001b[0m\u001b[0;34m\u001b[0m\u001b[0;34m\u001b[0m\u001b[0m\n\u001b[0;32m--\u003e 100\u001b[0;31m     \u001b[0mcmap\u001b[0m \u001b[0;34m\u003d\u001b[0m \u001b[0mdiverging_palette\u001b[0m\u001b[0;34m(\u001b[0m\u001b[0;36m220\u001b[0m\u001b[0;34m,\u001b[0m \u001b[0;36m10\u001b[0m\u001b[0;34m,\u001b[0m \u001b[0mas_cmap\u001b[0m\u001b[0;34m\u003d\u001b[0m\u001b[0;32mTrue\u001b[0m\u001b[0;34m)\u001b[0m\u001b[0;34m\u001b[0m\u001b[0;34m\u001b[0m\u001b[0m\n\u001b[0m\u001b[1;32m    101\u001b[0m \u001b[0;34m\u001b[0m\u001b[0m\n\u001b[1;32m    102\u001b[0m     \u001b[0;31m# Draw the heatmap with the mask and correct aspect ratio\u001b[0m\u001b[0;34m\u001b[0m\u001b[0;34m\u001b[0m\u001b[0;34m\u001b[0m\u001b[0m\n",
            "\u001b[0;31mNameError\u001b[0m: name \u0027diverging_palette\u0027 is not defined"
          ]
        },
        {
          "data": {
            "image/png": "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\u003d\u003d\n",
            "text/plain": [
              "\u003cFigure size 792x648 with 1 Axes\u003e"
            ]
          },
          "metadata": {
            "needs_background": "light"
          },
          "output_type": "display_data"
        }
      ],
      "source": [
        "# You need ML-Ensemble for this figure: you can install it with: pip install mlens\n",
        "from mlens.visualization import corrmat\n",
        "\n",
        "corrmat(P.corr(), inflate\u003dFalse)\n",
        "plt.show()"
      ]
    }
  ],
  "metadata": {
    "kernelspec": {
      "display_name": "Python 3",
      "language": "python",
      "name": "python3"
    },
    "language_info": {
      "codemirror_mode": {
        "name": "ipython",
        "version": 3
      },
      "file_extension": ".py",
      "mimetype": "text/x-python",
      "name": "python",
      "nbconvert_exporter": "python",
      "pygments_lexer": "ipython3",
      "version": "3.7.2"
    }
  },
  "nbformat": 4,
  "nbformat_minor": 2
}